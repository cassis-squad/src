{
 "cells": [
  {
   "cell_type": "code",
   "execution_count": 13,
   "id": "c3b48704",
   "metadata": {},
   "outputs": [],
   "source": [
    "import pandas as pd\n",
    "import numpy as np\n",
    "import matplotlib.pyplot as plt\n",
    "import seaborn as sns\n",
    "from sklearn.ensemble import RandomForestClassifier\n",
    "from sklearn.model_selection import train_test_split"
   ]
  },
  {
   "cell_type": "code",
   "execution_count": 15,
   "id": "805be6b3",
   "metadata": {},
   "outputs": [
    {
     "data": {
      "text/html": [
       "<div>\n",
       "<style scoped>\n",
       "    .dataframe tbody tr th:only-of-type {\n",
       "        vertical-align: middle;\n",
       "    }\n",
       "\n",
       "    .dataframe tbody tr th {\n",
       "        vertical-align: top;\n",
       "    }\n",
       "\n",
       "    .dataframe thead th {\n",
       "        text-align: right;\n",
       "    }\n",
       "</style>\n",
       "<table border=\"1\" class=\"dataframe\">\n",
       "  <thead>\n",
       "    <tr style=\"text-align: right;\">\n",
       "      <th></th>\n",
       "      <th>zone</th>\n",
       "      <th>AP_SMART25</th>\n",
       "      <th>itis-wifi2</th>\n",
       "      <th>AP_ITISLI03_5.0</th>\n",
       "      <th>AP_ITISLI02</th>\n",
       "      <th>AP_ITISLI03_2.5</th>\n",
       "      <th>itis-wifi</th>\n",
       "      <th>wifi-itis</th>\n",
       "      <th>itis-pvt</th>\n",
       "      <th>wifi-lab01</th>\n",
       "      <th>AP_SMART50</th>\n",
       "    </tr>\n",
       "  </thead>\n",
       "  <tbody>\n",
       "    <tr>\n",
       "      <th>0</th>\n",
       "      <td>Aula3_0_1</td>\n",
       "      <td>-120.0</td>\n",
       "      <td>-101.2</td>\n",
       "      <td>-120.0</td>\n",
       "      <td>-120.0</td>\n",
       "      <td>-37.8</td>\n",
       "      <td>-90.6</td>\n",
       "      <td>-110.2</td>\n",
       "      <td>-110.2</td>\n",
       "      <td>-101.6</td>\n",
       "      <td>-120.0</td>\n",
       "    </tr>\n",
       "    <tr>\n",
       "      <th>1</th>\n",
       "      <td>Aula3_0_1</td>\n",
       "      <td>-120.0</td>\n",
       "      <td>-101.2</td>\n",
       "      <td>-120.0</td>\n",
       "      <td>-120.0</td>\n",
       "      <td>-37.8</td>\n",
       "      <td>-90.6</td>\n",
       "      <td>-120.0</td>\n",
       "      <td>-110.2</td>\n",
       "      <td>-110.6</td>\n",
       "      <td>-120.0</td>\n",
       "    </tr>\n",
       "    <tr>\n",
       "      <th>2</th>\n",
       "      <td>Aula3_0_1</td>\n",
       "      <td>-120.0</td>\n",
       "      <td>-91.8</td>\n",
       "      <td>-120.0</td>\n",
       "      <td>-120.0</td>\n",
       "      <td>-38.6</td>\n",
       "      <td>-98.8</td>\n",
       "      <td>-120.0</td>\n",
       "      <td>-100.4</td>\n",
       "      <td>-110.6</td>\n",
       "      <td>-120.0</td>\n",
       "    </tr>\n",
       "    <tr>\n",
       "      <th>3</th>\n",
       "      <td>Aula3_0_1</td>\n",
       "      <td>-120.0</td>\n",
       "      <td>-91.8</td>\n",
       "      <td>-120.0</td>\n",
       "      <td>-120.0</td>\n",
       "      <td>-39.0</td>\n",
       "      <td>-98.8</td>\n",
       "      <td>-120.0</td>\n",
       "      <td>-100.4</td>\n",
       "      <td>-100.8</td>\n",
       "      <td>-120.0</td>\n",
       "    </tr>\n",
       "    <tr>\n",
       "      <th>4</th>\n",
       "      <td>Aula3_0_1</td>\n",
       "      <td>-120.0</td>\n",
       "      <td>-91.8</td>\n",
       "      <td>-120.0</td>\n",
       "      <td>-120.0</td>\n",
       "      <td>-39.4</td>\n",
       "      <td>-100.4</td>\n",
       "      <td>-111.4</td>\n",
       "      <td>-89.4</td>\n",
       "      <td>-92.2</td>\n",
       "      <td>-120.0</td>\n",
       "    </tr>\n",
       "  </tbody>\n",
       "</table>\n",
       "</div>"
      ],
      "text/plain": [
       "        zone  AP_SMART25  itis-wifi2  AP_ITISLI03_5.0  AP_ITISLI02  \\\n",
       "0  Aula3_0_1      -120.0      -101.2           -120.0       -120.0   \n",
       "1  Aula3_0_1      -120.0      -101.2           -120.0       -120.0   \n",
       "2  Aula3_0_1      -120.0       -91.8           -120.0       -120.0   \n",
       "3  Aula3_0_1      -120.0       -91.8           -120.0       -120.0   \n",
       "4  Aula3_0_1      -120.0       -91.8           -120.0       -120.0   \n",
       "\n",
       "   AP_ITISLI03_2.5  itis-wifi  wifi-itis  itis-pvt  wifi-lab01  AP_SMART50  \n",
       "0            -37.8      -90.6     -110.2    -110.2      -101.6      -120.0  \n",
       "1            -37.8      -90.6     -120.0    -110.2      -110.6      -120.0  \n",
       "2            -38.6      -98.8     -120.0    -100.4      -110.6      -120.0  \n",
       "3            -39.0      -98.8     -120.0    -100.4      -100.8      -120.0  \n",
       "4            -39.4     -100.4     -111.4     -89.4       -92.2      -120.0  "
      ]
     },
     "execution_count": 15,
     "metadata": {},
     "output_type": "execute_result"
    }
   ],
   "source": [
    "data = pd.read_csv(\"dataset_finale.csv\")\n",
    "data.dropna(inplace=True, axis=1)\n",
    "data.head()"
   ]
  },
  {
   "cell_type": "code",
   "execution_count": 16,
   "id": "4e43fdb5",
   "metadata": {},
   "outputs": [
    {
     "data": {
      "text/plain": [
       "array(['itis-wifi2', 'AP_ITISLI03_5.0', 'AP_ITISLI02', 'AP_ITISLI03_2.5',\n",
       "       'itis-wifi', 'wifi-itis', 'itis-pvt', 'wifi-lab01', 'AP_SMART50'],\n",
       "      dtype=object)"
      ]
     },
     "execution_count": 16,
     "metadata": {},
     "output_type": "execute_result"
    }
   ],
   "source": [
    "features = data.columns.values\n",
    "features = features[np.logical_and(features != 'zone', features != 'AP_SMART25')]\n",
    "features"
   ]
  },
  {
   "cell_type": "code",
   "execution_count": 17,
   "id": "f1b449d9",
   "metadata": {},
   "outputs": [],
   "source": [
    "X = data[features]\n",
    "y = data[\"zone\"]"
   ]
  },
  {
   "cell_type": "code",
   "execution_count": 25,
   "id": "4aa44b4d",
   "metadata": {},
   "outputs": [
    {
     "name": "stdout",
     "output_type": "stream",
     "text": [
      "    itis-wifi2  AP_ITISLI03_5.0  AP_ITISLI02  AP_ITISLI03_2.5  itis-wifi  \\\n",
      "37       -83.6           -120.0       -120.0            -55.6     -109.4   \n",
      "\n",
      "    wifi-itis  itis-pvt  wifi-lab01  AP_SMART50  \n",
      "37     -111.8     -98.4       -89.4      -120.0  \n"
     ]
    }
   ],
   "source": [
    "X_train, X_test, y_train, y_test = train_test_split(X, y, train_size=1, random_state=1)\n",
    "\n",
    "print(X_train.head())"
   ]
  },
  {
   "cell_type": "code",
   "execution_count": 26,
   "id": "ee18e9e1",
   "metadata": {},
   "outputs": [
    {
     "data": {
      "text/plain": [
       "array([[ -83.6, -120. , -120. ,  -55.6, -109.4, -111.8,  -98.4,  -89.4,\n",
       "        -120. ]])"
      ]
     },
     "execution_count": 26,
     "metadata": {},
     "output_type": "execute_result"
    }
   ],
   "source": [
    "X_train.values"
   ]
  },
  {
   "cell_type": "code",
   "execution_count": 27,
   "id": "4296cf73",
   "metadata": {},
   "outputs": [],
   "source": [
    "depth = range(1,8)\n",
    "train_score = []\n",
    "test_score = []\n",
    "\n",
    "for d in depth:\n",
    "    net_classifier = RandomForestClassifier(max_depth=d, n_estimators=150)\n",
    "    net_classifier.fit(X_train, y_train)\n",
    "    train_score.append(net_classifier.score(X_train, y_train))\n",
    "    test_score.append(net_classifier.score(X_test, y_test))"
   ]
  },
  {
   "cell_type": "code",
   "execution_count": 28,
   "id": "4d3c36fa",
   "metadata": {},
   "outputs": [
    {
     "data": {
      "image/png": "[encoded data removed]",
      "text/plain": [
       "<Figure size 720x720 with 1 Axes>"
      ]
     },
     "metadata": {
      "needs_background": "light"
     },
     "output_type": "display_data"
    }
   ],
   "source": [
    "fig, ax = plt.subplots(figsize=(10,10))\n",
    "ax.plot(depth, train_score, color='r', label='accuratezza training', linewidth=5)\n",
    "ax.plot(depth, test_score, color='b', label='accuratezza test', linewidth=5)\n",
    "ax.tick_params(axis=\"both\", labelsize=16)\n",
    "ax.set_xlabel('maxdepth value', fontsize=22)\n",
    "ax.set_ylabel('accuracy', fontsize=22)\n",
    "ax.legend(fontsize=22)\n",
    "ax.grid(\"both\")\n",
    "plt.show()"
   ]
  },
  {
   "cell_type": "code",
   "execution_count": 29,
   "id": "956cc019",
   "metadata": {},
   "outputs": [
    {
     "name": "stdout",
     "output_type": "stream",
     "text": [
      "importanza di itis-wifi2: 0.00\n",
      "importanza di AP_ITISLI03_5.0: 0.00\n",
      "importanza di AP_ITISLI02: 0.00\n",
      "importanza di AP_ITISLI03_2.5: 0.00\n",
      "importanza di itis-wifi: 0.00\n",
      "importanza di wifi-itis: 0.00\n",
      "importanza di itis-pvt: 0.00\n",
      "importanza di wifi-lab01: 0.00\n",
      "importanza di AP_SMART50: 0.00\n"
     ]
    }
   ],
   "source": [
    "for i, f in enumerate(features):\n",
    "    print(f\"importanza di {f}: {net_classifier.feature_importances_[i]:.2f}\")"
   ]
  },
  {
   "cell_type": "code",
   "execution_count": 30,
   "id": "87d592d4",
   "metadata": {},
   "outputs": [
    {
     "data": {
      "text/plain": [
       "['wifi_model.joblib']"
      ]
     },
     "execution_count": 30,
     "metadata": {},
     "output_type": "execute_result"
    }
   ],
   "source": [
    "from joblib import dump\n",
    "\n",
    "dump(net_classifier, 'wifi_model.joblib')"
   ]
  },
  {
   "cell_type": "code",
   "execution_count": 31,
   "id": "59560a83",
   "metadata": {},
   "outputs": [
    {
     "name": "stderr",
     "output_type": "stream",
     "text": [
      "/home/rdfilippo/.local/lib/python3.10/site-packages/sklearn/base.py:450: UserWarning: X does not have valid feature names, but RandomForestClassifier was fitted with feature names\n",
      "  warnings.warn(\n"
     ]
    },
    {
     "data": {
      "text/plain": [
       "array(['Aula3_0_2'], dtype=object)"
      ]
     },
     "execution_count": 31,
     "metadata": {},
     "output_type": "execute_result"
    }
   ],
   "source": [
    "net_classifier.predict(np.array([[-120,-120,-120,-120,-120,-63,-120,-120,-120]]))"
   ]
  },
  {
   "cell_type": "code",
   "execution_count": 32,
   "id": "70f50fad",
   "metadata": {},
   "outputs": [
    {
     "data": {
      "text/plain": [
       "array(['itis-wifi2', 'AP_ITISLI03_5.0', 'AP_ITISLI02', 'AP_ITISLI03_2.5',\n",
       "       'itis-wifi', 'wifi-itis', 'itis-pvt', 'wifi-lab01', 'AP_SMART50'],\n",
       "      dtype=object)"
      ]
     },
     "execution_count": 32,
     "metadata": {},
     "output_type": "execute_result"
    }
   ],
   "source": [
    "net_classifier.feature_names_in_"
   ]
  },
  {
   "cell_type": "code",
   "execution_count": null,
   "id": "f58cedc2",
   "metadata": {},
   "outputs": [],
   "source": []
  }
 ],
 "metadata": {
  "kernelspec": {
   "display_name": "Python 3 (ipykernel)",
   "language": "python",
   "name": "python3"
  },
  "language_info": {
   "codemirror_mode": {
    "name": "ipython",
    "version": 3
   },
   "file_extension": ".py",
   "mimetype": "text/x-python",
   "name": "python",
   "nbconvert_exporter": "python",
   "pygments_lexer": "ipython3",
   "version": "3.10.4"
  }
 },
 "nbformat": 4,
 "nbformat_minor": 5
}

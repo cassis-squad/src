{
 "cells": [
  {
   "cell_type": "code",
   "execution_count": 4,
   "id": "c3b48704",
   "metadata": {},
   "outputs": [],
   "source": [
    "import pandas as pd\n",
    "import numpy as np\n",
    "import matplotlib.pyplot as plt\n",
    "import seaborn as sns\n",
    "from sklearn.ensemble import RandomForestClassifier\n",
    "from sklearn.model_selection import train_test_split"
   ]
  },
  {
   "cell_type": "code",
   "execution_count": 5,
   "id": "805be6b3",
   "metadata": {},
   "outputs": [
    {
     "data": {
      "text/html": [
       "<div>\n",
       "<style scoped>\n",
       "    .dataframe tbody tr th:only-of-type {\n",
       "        vertical-align: middle;\n",
       "    }\n",
       "\n",
       "    .dataframe tbody tr th {\n",
       "        vertical-align: top;\n",
       "    }\n",
       "\n",
       "    .dataframe thead th {\n",
       "        text-align: right;\n",
       "    }\n",
       "</style>\n",
       "<table border=\"1\" class=\"dataframe\">\n",
       "  <thead>\n",
       "    <tr style=\"text-align: right;\">\n",
       "      <th></th>\n",
       "      <th>zone</th>\n",
       "      <th>AP_SMART25</th>\n",
       "      <th>itis-wifi2</th>\n",
       "      <th>AP_ITISLI03_5.0</th>\n",
       "      <th>AP_ITISLI02</th>\n",
       "      <th>AP_ITISLI03_2.5</th>\n",
       "      <th>itis-wifi</th>\n",
       "      <th>wifi-itis</th>\n",
       "      <th>itis-pvt</th>\n",
       "      <th>wifi-lab01</th>\n",
       "      <th>AP_SMART50</th>\n",
       "    </tr>\n",
       "  </thead>\n",
       "  <tbody>\n",
       "    <tr>\n",
       "      <th>0</th>\n",
       "      <td>Aula3_0_1</td>\n",
       "      <td>-95.0</td>\n",
       "      <td>-101.2</td>\n",
       "      <td>-95.0</td>\n",
       "      <td>-95.0</td>\n",
       "      <td>-37.8</td>\n",
       "      <td>-90.6</td>\n",
       "      <td>-110.2</td>\n",
       "      <td>-110.2</td>\n",
       "      <td>-101.6</td>\n",
       "      <td>-95.0</td>\n",
       "    </tr>\n",
       "    <tr>\n",
       "      <th>1</th>\n",
       "      <td>Aula3_0_1</td>\n",
       "      <td>-95.0</td>\n",
       "      <td>-101.2</td>\n",
       "      <td>-95.0</td>\n",
       "      <td>-95.0</td>\n",
       "      <td>-37.8</td>\n",
       "      <td>-90.6</td>\n",
       "      <td>-95.0</td>\n",
       "      <td>-110.2</td>\n",
       "      <td>-110.6</td>\n",
       "      <td>-95.0</td>\n",
       "    </tr>\n",
       "    <tr>\n",
       "      <th>2</th>\n",
       "      <td>Aula3_0_1</td>\n",
       "      <td>-95.0</td>\n",
       "      <td>-91.8</td>\n",
       "      <td>-95.0</td>\n",
       "      <td>-95.0</td>\n",
       "      <td>-38.6</td>\n",
       "      <td>-98.8</td>\n",
       "      <td>-95.0</td>\n",
       "      <td>-100.4</td>\n",
       "      <td>-110.6</td>\n",
       "      <td>-95.0</td>\n",
       "    </tr>\n",
       "    <tr>\n",
       "      <th>3</th>\n",
       "      <td>Aula3_0_1</td>\n",
       "      <td>-95.0</td>\n",
       "      <td>-91.8</td>\n",
       "      <td>-95.0</td>\n",
       "      <td>-95.0</td>\n",
       "      <td>-39.0</td>\n",
       "      <td>-98.8</td>\n",
       "      <td>-95.0</td>\n",
       "      <td>-100.4</td>\n",
       "      <td>-100.8</td>\n",
       "      <td>-95.0</td>\n",
       "    </tr>\n",
       "    <tr>\n",
       "      <th>4</th>\n",
       "      <td>Aula3_0_1</td>\n",
       "      <td>-95.0</td>\n",
       "      <td>-91.8</td>\n",
       "      <td>-95.0</td>\n",
       "      <td>-95.0</td>\n",
       "      <td>-39.4</td>\n",
       "      <td>-100.4</td>\n",
       "      <td>-111.4</td>\n",
       "      <td>-89.4</td>\n",
       "      <td>-92.2</td>\n",
       "      <td>-95.0</td>\n",
       "    </tr>\n",
       "  </tbody>\n",
       "</table>\n",
       "</div>"
      ],
      "text/plain": [
       "        zone  AP_SMART25  itis-wifi2  AP_ITISLI03_5.0  AP_ITISLI02  \\\n",
       "0  Aula3_0_1       -95.0      -101.2            -95.0        -95.0   \n",
       "1  Aula3_0_1       -95.0      -101.2            -95.0        -95.0   \n",
       "2  Aula3_0_1       -95.0       -91.8            -95.0        -95.0   \n",
       "3  Aula3_0_1       -95.0       -91.8            -95.0        -95.0   \n",
       "4  Aula3_0_1       -95.0       -91.8            -95.0        -95.0   \n",
       "\n",
       "   AP_ITISLI03_2.5  itis-wifi  wifi-itis  itis-pvt  wifi-lab01  AP_SMART50  \n",
       "0            -37.8      -90.6     -110.2    -110.2      -101.6       -95.0  \n",
       "1            -37.8      -90.6      -95.0    -110.2      -110.6       -95.0  \n",
       "2            -38.6      -98.8      -95.0    -100.4      -110.6       -95.0  \n",
       "3            -39.0      -98.8      -95.0    -100.4      -100.8       -95.0  \n",
       "4            -39.4     -100.4     -111.4     -89.4       -92.2       -95.0  "
      ]
     },
     "execution_count": 5,
     "metadata": {},
     "output_type": "execute_result"
    }
   ],
   "source": [
    "data = pd.read_csv('./dataset_finale.csv')\n",
    "data.dropna(inplace=True, axis=1)\n",
    "data.head()"
   ]
  },
  {
   "cell_type": "code",
   "execution_count": 6,
   "id": "3b8917ba",
   "metadata": {},
   "outputs": [
    {
     "name": "stderr",
     "output_type": "stream",
     "text": [
      "No artists with labels found to put in legend.  Note that artists whose label start with an underscore are ignored when legend() is called with no argument.\n"
     ]
    },
    {
     "data": {
      "image/png": "[encoded data removed]",
      "text/plain": [
       "<Figure size 720x720 with 1 Axes>"
      ]
     },
     "metadata": {
      "needs_background": "light"
     },
     "output_type": "display_data"
    }
   ],
   "source": [
    "import matplotlib.pyplot as plt\n",
    "\n",
    "fig, ax = plt.subplots(figsize=(10,10))\n",
    "ax.hist(data['itis-pvt'])\n",
    "plt.legend()\n",
    "plt.show()\n"
   ]
  },
  {
   "cell_type": "code",
   "execution_count": 7,
   "id": "4e43fdb5",
   "metadata": {},
   "outputs": [
    {
     "data": {
      "text/plain": [
       "array(['itis-wifi2', 'AP_ITISLI03_2.5', 'itis-wifi', 'wifi-itis',\n",
       "       'itis-pvt', 'wifi-lab01'], dtype=object)"
      ]
     },
     "execution_count": 7,
     "metadata": {},
     "output_type": "execute_result"
    }
   ],
   "source": [
    "features = data.columns.values\n",
    "features = features[np.logical_and(features != 'zone', np.logical_and(features != 'AP_SMART25',\n",
    "                                   np.logical_and(features != 'AP_ITISLI03_5.0', np.logical_and(features != 'AP_ITISLI02',\n",
    "                                   features != 'AP_SMART50'))))]\n",
    "features"
   ]
  },
  {
   "cell_type": "code",
   "execution_count": 8,
   "id": "2b1d55e4",
   "metadata": {},
   "outputs": [
    {
     "data": {
      "text/html": [
       "<div>\n",
       "<style scoped>\n",
       "    .dataframe tbody tr th:only-of-type {\n",
       "        vertical-align: middle;\n",
       "    }\n",
       "\n",
       "    .dataframe tbody tr th {\n",
       "        vertical-align: top;\n",
       "    }\n",
       "\n",
       "    .dataframe thead th {\n",
       "        text-align: right;\n",
       "    }\n",
       "</style>\n",
       "<table border=\"1\" class=\"dataframe\">\n",
       "  <thead>\n",
       "    <tr style=\"text-align: right;\">\n",
       "      <th></th>\n",
       "      <th>AP_SMART25</th>\n",
       "      <th>itis-wifi2</th>\n",
       "      <th>AP_ITISLI03_5.0</th>\n",
       "      <th>AP_ITISLI02</th>\n",
       "      <th>AP_ITISLI03_2.5</th>\n",
       "      <th>itis-wifi</th>\n",
       "      <th>wifi-itis</th>\n",
       "      <th>itis-pvt</th>\n",
       "      <th>wifi-lab01</th>\n",
       "      <th>AP_SMART50</th>\n",
       "    </tr>\n",
       "  </thead>\n",
       "  <tbody>\n",
       "    <tr>\n",
       "      <th>count</th>\n",
       "      <td>25.000000</td>\n",
       "      <td>25.00000</td>\n",
       "      <td>25.0</td>\n",
       "      <td>25.0</td>\n",
       "      <td>25.000000</td>\n",
       "      <td>25.000000</td>\n",
       "      <td>25.000000</td>\n",
       "      <td>25.00000</td>\n",
       "      <td>25.000000</td>\n",
       "      <td>25.0</td>\n",
       "    </tr>\n",
       "    <tr>\n",
       "      <th>mean</th>\n",
       "      <td>-97.560000</td>\n",
       "      <td>-95.46400</td>\n",
       "      <td>-95.0</td>\n",
       "      <td>-95.0</td>\n",
       "      <td>-39.816000</td>\n",
       "      <td>-102.888000</td>\n",
       "      <td>-96.536000</td>\n",
       "      <td>-95.18400</td>\n",
       "      <td>-100.672000</td>\n",
       "      <td>-95.0</td>\n",
       "    </tr>\n",
       "    <tr>\n",
       "      <th>std</th>\n",
       "      <td>5.225578</td>\n",
       "      <td>9.52098</td>\n",
       "      <td>0.0</td>\n",
       "      <td>0.0</td>\n",
       "      <td>3.020993</td>\n",
       "      <td>7.269131</td>\n",
       "      <td>8.154083</td>\n",
       "      <td>11.48389</td>\n",
       "      <td>9.923185</td>\n",
       "      <td>0.0</td>\n",
       "    </tr>\n",
       "    <tr>\n",
       "      <th>min</th>\n",
       "      <td>-107.800000</td>\n",
       "      <td>-111.00000</td>\n",
       "      <td>-95.0</td>\n",
       "      <td>-95.0</td>\n",
       "      <td>-46.200000</td>\n",
       "      <td>-111.800000</td>\n",
       "      <td>-111.400000</td>\n",
       "      <td>-110.20000</td>\n",
       "      <td>-111.400000</td>\n",
       "      <td>-95.0</td>\n",
       "    </tr>\n",
       "    <tr>\n",
       "      <th>25%</th>\n",
       "      <td>-95.000000</td>\n",
       "      <td>-101.20000</td>\n",
       "      <td>-95.0</td>\n",
       "      <td>-95.0</td>\n",
       "      <td>-40.200000</td>\n",
       "      <td>-111.400000</td>\n",
       "      <td>-102.000000</td>\n",
       "      <td>-100.80000</td>\n",
       "      <td>-110.600000</td>\n",
       "      <td>-95.0</td>\n",
       "    </tr>\n",
       "    <tr>\n",
       "      <th>50%</th>\n",
       "      <td>-95.000000</td>\n",
       "      <td>-95.00000</td>\n",
       "      <td>-95.0</td>\n",
       "      <td>-95.0</td>\n",
       "      <td>-38.600000</td>\n",
       "      <td>-102.400000</td>\n",
       "      <td>-95.000000</td>\n",
       "      <td>-95.00000</td>\n",
       "      <td>-101.600000</td>\n",
       "      <td>-95.0</td>\n",
       "    </tr>\n",
       "    <tr>\n",
       "      <th>75%</th>\n",
       "      <td>-95.000000</td>\n",
       "      <td>-91.80000</td>\n",
       "      <td>-95.0</td>\n",
       "      <td>-95.0</td>\n",
       "      <td>-37.800000</td>\n",
       "      <td>-98.800000</td>\n",
       "      <td>-91.800000</td>\n",
       "      <td>-89.40000</td>\n",
       "      <td>-100.400000</td>\n",
       "      <td>-95.0</td>\n",
       "    </tr>\n",
       "    <tr>\n",
       "      <th>max</th>\n",
       "      <td>-95.000000</td>\n",
       "      <td>-81.60000</td>\n",
       "      <td>-95.0</td>\n",
       "      <td>-95.0</td>\n",
       "      <td>-37.000000</td>\n",
       "      <td>-90.600000</td>\n",
       "      <td>-81.200000</td>\n",
       "      <td>-70.60000</td>\n",
       "      <td>-73.400000</td>\n",
       "      <td>-95.0</td>\n",
       "    </tr>\n",
       "  </tbody>\n",
       "</table>\n",
       "</div>"
      ],
      "text/plain": [
       "       AP_SMART25  itis-wifi2  AP_ITISLI03_5.0  AP_ITISLI02  AP_ITISLI03_2.5  \\\n",
       "count   25.000000    25.00000             25.0         25.0        25.000000   \n",
       "mean   -97.560000   -95.46400            -95.0        -95.0       -39.816000   \n",
       "std      5.225578     9.52098              0.0          0.0         3.020993   \n",
       "min   -107.800000  -111.00000            -95.0        -95.0       -46.200000   \n",
       "25%    -95.000000  -101.20000            -95.0        -95.0       -40.200000   \n",
       "50%    -95.000000   -95.00000            -95.0        -95.0       -38.600000   \n",
       "75%    -95.000000   -91.80000            -95.0        -95.0       -37.800000   \n",
       "max    -95.000000   -81.60000            -95.0        -95.0       -37.000000   \n",
       "\n",
       "        itis-wifi   wifi-itis   itis-pvt  wifi-lab01  AP_SMART50  \n",
       "count   25.000000   25.000000   25.00000   25.000000        25.0  \n",
       "mean  -102.888000  -96.536000  -95.18400 -100.672000       -95.0  \n",
       "std      7.269131    8.154083   11.48389    9.923185         0.0  \n",
       "min   -111.800000 -111.400000 -110.20000 -111.400000       -95.0  \n",
       "25%   -111.400000 -102.000000 -100.80000 -110.600000       -95.0  \n",
       "50%   -102.400000  -95.000000  -95.00000 -101.600000       -95.0  \n",
       "75%    -98.800000  -91.800000  -89.40000 -100.400000       -95.0  \n",
       "max    -90.600000  -81.200000  -70.60000  -73.400000       -95.0  "
      ]
     },
     "execution_count": 8,
     "metadata": {},
     "output_type": "execute_result"
    }
   ],
   "source": [
    "data[data['zone'] == 'Aula3_0_1'].describe()"
   ]
  },
  {
   "cell_type": "code",
   "execution_count": 9,
   "id": "870bf0dd",
   "metadata": {},
   "outputs": [
    {
     "data": {
      "text/html": [
       "<div>\n",
       "<style scoped>\n",
       "    .dataframe tbody tr th:only-of-type {\n",
       "        vertical-align: middle;\n",
       "    }\n",
       "\n",
       "    .dataframe tbody tr th {\n",
       "        vertical-align: top;\n",
       "    }\n",
       "\n",
       "    .dataframe thead th {\n",
       "        text-align: right;\n",
       "    }\n",
       "</style>\n",
       "<table border=\"1\" class=\"dataframe\">\n",
       "  <thead>\n",
       "    <tr style=\"text-align: right;\">\n",
       "      <th></th>\n",
       "      <th>itis-wifi2</th>\n",
       "      <th>AP_ITISLI03_2.5</th>\n",
       "      <th>itis-wifi</th>\n",
       "      <th>itis-pvt</th>\n",
       "      <th>wifi-itis</th>\n",
       "      <th>wifi-lab01</th>\n",
       "      <th>zone</th>\n",
       "    </tr>\n",
       "  </thead>\n",
       "  <tbody>\n",
       "    <tr>\n",
       "      <th>0</th>\n",
       "      <td>-101.2</td>\n",
       "      <td>-37.8</td>\n",
       "      <td>-90.6</td>\n",
       "      <td>-110.2</td>\n",
       "      <td>-110.2</td>\n",
       "      <td>-101.6</td>\n",
       "      <td>Aula3_0_1</td>\n",
       "    </tr>\n",
       "    <tr>\n",
       "      <th>1</th>\n",
       "      <td>-101.2</td>\n",
       "      <td>-37.8</td>\n",
       "      <td>-90.6</td>\n",
       "      <td>-110.2</td>\n",
       "      <td>-95.0</td>\n",
       "      <td>-110.6</td>\n",
       "      <td>Aula3_0_1</td>\n",
       "    </tr>\n",
       "    <tr>\n",
       "      <th>2</th>\n",
       "      <td>-91.8</td>\n",
       "      <td>-38.6</td>\n",
       "      <td>-98.8</td>\n",
       "      <td>-100.4</td>\n",
       "      <td>-95.0</td>\n",
       "      <td>-110.6</td>\n",
       "      <td>Aula3_0_1</td>\n",
       "    </tr>\n",
       "    <tr>\n",
       "      <th>3</th>\n",
       "      <td>-91.8</td>\n",
       "      <td>-39.0</td>\n",
       "      <td>-98.8</td>\n",
       "      <td>-100.4</td>\n",
       "      <td>-95.0</td>\n",
       "      <td>-100.8</td>\n",
       "      <td>Aula3_0_1</td>\n",
       "    </tr>\n",
       "    <tr>\n",
       "      <th>4</th>\n",
       "      <td>-91.8</td>\n",
       "      <td>-39.4</td>\n",
       "      <td>-100.4</td>\n",
       "      <td>-89.4</td>\n",
       "      <td>-111.4</td>\n",
       "      <td>-92.2</td>\n",
       "      <td>Aula3_0_1</td>\n",
       "    </tr>\n",
       "    <tr>\n",
       "      <th>...</th>\n",
       "      <td>...</td>\n",
       "      <td>...</td>\n",
       "      <td>...</td>\n",
       "      <td>...</td>\n",
       "      <td>...</td>\n",
       "      <td>...</td>\n",
       "      <td>...</td>\n",
       "    </tr>\n",
       "    <tr>\n",
       "      <th>370</th>\n",
       "      <td>-91.8</td>\n",
       "      <td>-95.0</td>\n",
       "      <td>-95.0</td>\n",
       "      <td>-92.4</td>\n",
       "      <td>-111.4</td>\n",
       "      <td>-95.0</td>\n",
       "      <td>Smartlab_4</td>\n",
       "    </tr>\n",
       "    <tr>\n",
       "      <th>371</th>\n",
       "      <td>-101.2</td>\n",
       "      <td>-95.0</td>\n",
       "      <td>-95.0</td>\n",
       "      <td>-106.2</td>\n",
       "      <td>-111.4</td>\n",
       "      <td>-95.0</td>\n",
       "      <td>Smartlab_4</td>\n",
       "    </tr>\n",
       "    <tr>\n",
       "      <th>372</th>\n",
       "      <td>-101.2</td>\n",
       "      <td>-95.0</td>\n",
       "      <td>-95.0</td>\n",
       "      <td>-105.4</td>\n",
       "      <td>-111.4</td>\n",
       "      <td>-95.0</td>\n",
       "      <td>Smartlab_4</td>\n",
       "    </tr>\n",
       "    <tr>\n",
       "      <th>373</th>\n",
       "      <td>-110.6</td>\n",
       "      <td>-95.0</td>\n",
       "      <td>-95.0</td>\n",
       "      <td>-91.6</td>\n",
       "      <td>-104.0</td>\n",
       "      <td>-95.0</td>\n",
       "      <td>Smartlab_4</td>\n",
       "    </tr>\n",
       "    <tr>\n",
       "      <th>374</th>\n",
       "      <td>-101.6</td>\n",
       "      <td>-95.0</td>\n",
       "      <td>-95.0</td>\n",
       "      <td>-77.8</td>\n",
       "      <td>-104.0</td>\n",
       "      <td>-95.0</td>\n",
       "      <td>Smartlab_4</td>\n",
       "    </tr>\n",
       "  </tbody>\n",
       "</table>\n",
       "<p>375 rows × 7 columns</p>\n",
       "</div>"
      ],
      "text/plain": [
       "     itis-wifi2  AP_ITISLI03_2.5  itis-wifi  itis-pvt  wifi-itis  wifi-lab01  \\\n",
       "0        -101.2            -37.8      -90.6    -110.2     -110.2      -101.6   \n",
       "1        -101.2            -37.8      -90.6    -110.2      -95.0      -110.6   \n",
       "2         -91.8            -38.6      -98.8    -100.4      -95.0      -110.6   \n",
       "3         -91.8            -39.0      -98.8    -100.4      -95.0      -100.8   \n",
       "4         -91.8            -39.4     -100.4     -89.4     -111.4       -92.2   \n",
       "..          ...              ...        ...       ...        ...         ...   \n",
       "370       -91.8            -95.0      -95.0     -92.4     -111.4       -95.0   \n",
       "371      -101.2            -95.0      -95.0    -106.2     -111.4       -95.0   \n",
       "372      -101.2            -95.0      -95.0    -105.4     -111.4       -95.0   \n",
       "373      -110.6            -95.0      -95.0     -91.6     -104.0       -95.0   \n",
       "374      -101.6            -95.0      -95.0     -77.8     -104.0       -95.0   \n",
       "\n",
       "           zone  \n",
       "0     Aula3_0_1  \n",
       "1     Aula3_0_1  \n",
       "2     Aula3_0_1  \n",
       "3     Aula3_0_1  \n",
       "4     Aula3_0_1  \n",
       "..          ...  \n",
       "370  Smartlab_4  \n",
       "371  Smartlab_4  \n",
       "372  Smartlab_4  \n",
       "373  Smartlab_4  \n",
       "374  Smartlab_4  \n",
       "\n",
       "[375 rows x 7 columns]"
      ]
     },
     "execution_count": 9,
     "metadata": {},
     "output_type": "execute_result"
    }
   ],
   "source": [
    "data = data[['itis-wifi2', 'AP_ITISLI03_2.5', 'itis-wifi', 'itis-pvt',\n",
    "       'wifi-itis', 'wifi-lab01', 'zone']]\n",
    "data\n"
   ]
  },
  {
   "cell_type": "code",
   "execution_count": 10,
   "id": "7ad59a14",
   "metadata": {
    "scrolled": false
   },
   "outputs": [
    {
     "data": {
      "image/png": "[encoded data removed]",
      "text/plain": [
       "<Figure size 720x720 with 1 Axes>"
      ]
     },
     "metadata": {
      "needs_background": "light"
     },
     "output_type": "display_data"
    }
   ],
   "source": [
    "import matplotlib.pyplot as plt\n",
    "\n",
    "fig, ax = plt.subplots(figsize=(10,10))\n",
    "for z in data['zone'].unique():\n",
    "    ax.scatter(data['itis-wifi'][data['zone'] == z], data['itis-pvt'][data['zone'] == z], marker='o', label=z)\n",
    "plt.legend()\n",
    "plt.show()"
   ]
  },
  {
   "cell_type": "code",
   "execution_count": 11,
   "id": "f1b449d9",
   "metadata": {},
   "outputs": [],
   "source": [
    "X = data[features]\n",
    "y = data[\"zone\"]"
   ]
  },
  {
   "cell_type": "code",
   "execution_count": 12,
   "id": "4aa44b4d",
   "metadata": {},
   "outputs": [
    {
     "name": "stdout",
     "output_type": "stream",
     "text": [
      "     itis-wifi2  AP_ITISLI03_2.5  itis-wifi  wifi-itis  itis-pvt  wifi-lab01\n",
      "222       -51.8            -95.0      -95.0      -55.8     -71.8       -95.0\n",
      "119       -95.0            -66.2      -65.4      -95.0     -95.0       -67.8\n",
      "80        -95.0            -70.2      -76.8      -95.0     -78.2       -71.4\n",
      "88        -95.0            -69.4      -67.0      -95.0     -70.2       -74.2\n",
      "236       -47.8            -95.0      -95.0      -67.8     -64.2       -95.0\n"
     ]
    }
   ],
   "source": [
    "X_train, X_test, y_train, y_test = train_test_split(X, y, train_size=0.7, random_state=1)\n",
    "\n",
    "print(X_train.head())"
   ]
  },
  {
   "cell_type": "code",
   "execution_count": 13,
   "id": "4296cf73",
   "metadata": {},
   "outputs": [],
   "source": [
    "depth = range(1,8)\n",
    "train_score = []\n",
    "test_score = []\n",
    "\n",
    "for d in depth:\n",
    "    net_classifier = RandomForestClassifier(max_depth=d, n_estimators=150)\n",
    "    net_classifier.fit(X_train, y_train)\n",
    "    train_score.append(net_classifier.score(X_train, y_train))\n",
    "    test_score.append(net_classifier.score(X_test, y_test))"
   ]
  },
  {
   "cell_type": "code",
   "execution_count": 14,
   "id": "4d3c36fa",
   "metadata": {},
   "outputs": [
    {
     "data": {
      "image/png": "[encoded data removed]",
      "text/plain": [
       "<Figure size 720x720 with 1 Axes>"
      ]
     },
     "metadata": {
      "needs_background": "light"
     },
     "output_type": "display_data"
    }
   ],
   "source": [
    "fig, ax = plt.subplots(figsize=(10,10))\n",
    "ax.plot(depth, train_score, color='r', label='accuratezza training', linewidth=5)\n",
    "ax.plot(depth, test_score, color='b', label='accuratezza test', linewidth=5)\n",
    "ax.tick_params(axis=\"both\", labelsize=16)\n",
    "ax.set_xlabel('maxdepth value', fontsize=22)\n",
    "ax.set_ylabel('accuracy', fontsize=22)\n",
    "ax.legend(fontsize=22)\n",
    "ax.grid(\"both\")\n",
    "plt.show()"
   ]
  },
  {
   "cell_type": "code",
   "execution_count": 15,
   "id": "956cc019",
   "metadata": {},
   "outputs": [
    {
     "name": "stdout",
     "output_type": "stream",
     "text": [
      "importanza di itis-wifi2: 0.18\n",
      "importanza di AP_ITISLI03_2.5: 0.15\n",
      "importanza di itis-wifi: 0.08\n",
      "importanza di wifi-itis: 0.21\n",
      "importanza di itis-pvt: 0.27\n",
      "importanza di wifi-lab01: 0.10\n"
     ]
    }
   ],
   "source": [
    "for i, f in enumerate(features):\n",
    "    print(f\"importanza di {f}: {net_classifier.feature_importances_[i]:.2f}\")"
   ]
  },
  {
   "cell_type": "code",
   "execution_count": 17,
   "id": "87d592d4",
   "metadata": {},
   "outputs": [
    {
     "data": {
      "text/plain": [
       "['net_classifier.joblib']"
      ]
     },
     "execution_count": 17,
     "metadata": {},
     "output_type": "execute_result"
    }
   ],
   "source": [
    "from joblib import dump\n",
    "\n",
    "dump(net_classifier, 'net_classifier.joblib')\n",
    "#model = load('net_classifier.joblib')"
   ]
  },
  {
   "cell_type": "code",
   "execution_count": null,
   "id": "3298c819",
   "metadata": {},
   "outputs": [],
   "source": []
  }
 ],
 "metadata": {
  "kernelspec": {
   "display_name": "Python 3 (ipykernel)",
   "language": "python",
   "name": "python3"
  },
  "language_info": {
   "codemirror_mode": {
    "name": "ipython",
    "version": 3
   },
   "file_extension": ".py",
   "mimetype": "text/x-python",
   "name": "python",
   "nbconvert_exporter": "python",
   "pygments_lexer": "ipython3",
   "version": "3.10.4"
  }
 },
 "nbformat": 4,
 "nbformat_minor": 5
}

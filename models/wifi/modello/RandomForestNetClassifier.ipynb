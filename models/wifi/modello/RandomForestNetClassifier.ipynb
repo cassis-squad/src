{
 "cells": [
  {
   "cell_type": "code",
   "execution_count": 12,
   "id": "c3b48704",
   "metadata": {},
   "outputs": [],
   "source": [
    "import pandas as pd\n",
    "import numpy as np\n",
    "import matplotlib.pyplot as plt\n",
    "import seaborn as sns\n",
    "from sklearn.ensemble import RandomForestClassifier\n",
    "from sklearn.model_selection import train_test_split"
   ]
  },
  {
   "cell_type": "code",
   "execution_count": 34,
   "id": "805be6b3",
   "metadata": {},
   "outputs": [
    {
     "data": {
      "text/html": [
       "<div>\n",
       "<style scoped>\n",
       "    .dataframe tbody tr th:only-of-type {\n",
       "        vertical-align: middle;\n",
       "    }\n",
       "\n",
       "    .dataframe tbody tr th {\n",
       "        vertical-align: top;\n",
       "    }\n",
       "\n",
       "    .dataframe thead th {\n",
       "        text-align: right;\n",
       "    }\n",
       "</style>\n",
       "<table border=\"1\" class=\"dataframe\">\n",
       "  <thead>\n",
       "    <tr style=\"text-align: right;\">\n",
       "      <th></th>\n",
       "      <th>zone</th>\n",
       "      <th>AP_ITISLI03_5.0</th>\n",
       "      <th>AP_ITISLI02</th>\n",
       "      <th>AP_SMART50</th>\n",
       "      <th>itis-wifi2</th>\n",
       "      <th>AP_SMART25</th>\n",
       "      <th>AP_ITISLI03_2.5</th>\n",
       "      <th>itis-wifi</th>\n",
       "      <th>itis-pvt</th>\n",
       "      <th>wifi-itis</th>\n",
       "      <th>wifi-lab01</th>\n",
       "    </tr>\n",
       "  </thead>\n",
       "  <tbody>\n",
       "    <tr>\n",
       "      <th>0</th>\n",
       "      <td>CorridoioLab_4</td>\n",
       "      <td>-95</td>\n",
       "      <td>-95</td>\n",
       "      <td>-95</td>\n",
       "      <td>-72</td>\n",
       "      <td>-95</td>\n",
       "      <td>-82</td>\n",
       "      <td>-73</td>\n",
       "      <td>-73</td>\n",
       "      <td>-80</td>\n",
       "      <td>-72</td>\n",
       "    </tr>\n",
       "    <tr>\n",
       "      <th>1</th>\n",
       "      <td>CorridoioLab_4</td>\n",
       "      <td>-95</td>\n",
       "      <td>-95</td>\n",
       "      <td>-95</td>\n",
       "      <td>-79</td>\n",
       "      <td>-95</td>\n",
       "      <td>-75</td>\n",
       "      <td>-77</td>\n",
       "      <td>-79</td>\n",
       "      <td>-79</td>\n",
       "      <td>-73</td>\n",
       "    </tr>\n",
       "    <tr>\n",
       "      <th>2</th>\n",
       "      <td>CorridoioLab_4</td>\n",
       "      <td>-95</td>\n",
       "      <td>-95</td>\n",
       "      <td>-95</td>\n",
       "      <td>-84</td>\n",
       "      <td>-95</td>\n",
       "      <td>-81</td>\n",
       "      <td>-79</td>\n",
       "      <td>-80</td>\n",
       "      <td>-82</td>\n",
       "      <td>-74</td>\n",
       "    </tr>\n",
       "    <tr>\n",
       "      <th>3</th>\n",
       "      <td>CorridoioLab_4</td>\n",
       "      <td>-95</td>\n",
       "      <td>-95</td>\n",
       "      <td>-95</td>\n",
       "      <td>-83</td>\n",
       "      <td>-95</td>\n",
       "      <td>-83</td>\n",
       "      <td>-69</td>\n",
       "      <td>-76</td>\n",
       "      <td>-73</td>\n",
       "      <td>-76</td>\n",
       "    </tr>\n",
       "    <tr>\n",
       "      <th>4</th>\n",
       "      <td>CorridoioLab_4</td>\n",
       "      <td>-95</td>\n",
       "      <td>-95</td>\n",
       "      <td>-95</td>\n",
       "      <td>-78</td>\n",
       "      <td>-95</td>\n",
       "      <td>-95</td>\n",
       "      <td>-70</td>\n",
       "      <td>-79</td>\n",
       "      <td>-72</td>\n",
       "      <td>-80</td>\n",
       "    </tr>\n",
       "  </tbody>\n",
       "</table>\n",
       "</div>"
      ],
      "text/plain": [
       "             zone  AP_ITISLI03_5.0  AP_ITISLI02  AP_SMART50  itis-wifi2  \\\n",
       "0  CorridoioLab_4              -95          -95         -95         -72   \n",
       "1  CorridoioLab_4              -95          -95         -95         -79   \n",
       "2  CorridoioLab_4              -95          -95         -95         -84   \n",
       "3  CorridoioLab_4              -95          -95         -95         -83   \n",
       "4  CorridoioLab_4              -95          -95         -95         -78   \n",
       "\n",
       "   AP_SMART25  AP_ITISLI03_2.5  itis-wifi  itis-pvt  wifi-itis  wifi-lab01  \n",
       "0         -95              -82        -73       -73        -80         -72  \n",
       "1         -95              -75        -77       -79        -79         -73  \n",
       "2         -95              -81        -79       -80        -82         -74  \n",
       "3         -95              -83        -69       -76        -73         -76  \n",
       "4         -95              -95        -70       -79        -72         -80  "
      ]
     },
     "execution_count": 34,
     "metadata": {},
     "output_type": "execute_result"
    }
   ],
   "source": [
    "data = pd.read_csv('./mydataset2.csv')\n",
    "data.dropna(inplace=True, axis=1)\n",
    "data.head()"
   ]
  },
  {
   "cell_type": "code",
   "execution_count": 35,
   "id": "3b8917ba",
   "metadata": {},
   "outputs": [
    {
     "name": "stderr",
     "output_type": "stream",
     "text": [
      "No handles with labels found to put in legend.\n"
     ]
    },
    {
     "data": {
      "image/png": "[encoded data removed]",
      "text/plain": [
       "<Figure size 720x720 with 1 Axes>"
      ]
     },
     "metadata": {
      "needs_background": "light"
     },
     "output_type": "display_data"
    }
   ],
   "source": [
    "import matplotlib.pyplot as plt\n",
    "\n",
    "fig, ax = plt.subplots(figsize=(10,10))\n",
    "ax.hist(data['itis-pvt'])\n",
    "plt.legend()\n",
    "plt.show()\n"
   ]
  },
  {
   "cell_type": "code",
   "execution_count": 36,
   "id": "4e43fdb5",
   "metadata": {},
   "outputs": [
    {
     "data": {
      "text/plain": [
       "array(['itis-wifi2', 'AP_ITISLI03_2.5', 'itis-wifi', 'itis-pvt',\n",
       "       'wifi-itis', 'wifi-lab01'], dtype=object)"
      ]
     },
     "execution_count": 36,
     "metadata": {},
     "output_type": "execute_result"
    }
   ],
   "source": [
    "features = data.columns.values\n",
    "features = features[np.logical_and(features != 'zone', np.logical_and(features != 'AP_SMART25',\n",
    "                                   np.logical_and(features != 'AP_ITISLI03_5.0', np.logical_and(features != 'AP_ITISLI02',\n",
    "                                   features != 'AP_SMART50'))))]\n",
    "features"
   ]
  },
  {
   "cell_type": "code",
   "execution_count": 37,
   "id": "2b1d55e4",
   "metadata": {},
   "outputs": [
    {
     "data": {
      "text/html": [
       "<div>\n",
       "<style scoped>\n",
       "    .dataframe tbody tr th:only-of-type {\n",
       "        vertical-align: middle;\n",
       "    }\n",
       "\n",
       "    .dataframe tbody tr th {\n",
       "        vertical-align: top;\n",
       "    }\n",
       "\n",
       "    .dataframe thead th {\n",
       "        text-align: right;\n",
       "    }\n",
       "</style>\n",
       "<table border=\"1\" class=\"dataframe\">\n",
       "  <thead>\n",
       "    <tr style=\"text-align: right;\">\n",
       "      <th></th>\n",
       "      <th>AP_ITISLI03_5.0</th>\n",
       "      <th>AP_ITISLI02</th>\n",
       "      <th>AP_SMART50</th>\n",
       "      <th>itis-wifi2</th>\n",
       "      <th>AP_SMART25</th>\n",
       "      <th>AP_ITISLI03_2.5</th>\n",
       "      <th>itis-wifi</th>\n",
       "      <th>itis-pvt</th>\n",
       "      <th>wifi-itis</th>\n",
       "      <th>wifi-lab01</th>\n",
       "    </tr>\n",
       "  </thead>\n",
       "  <tbody>\n",
       "    <tr>\n",
       "      <th>count</th>\n",
       "      <td>180.0</td>\n",
       "      <td>180.0</td>\n",
       "      <td>180.0</td>\n",
       "      <td>180.000000</td>\n",
       "      <td>180.0</td>\n",
       "      <td>180.000000</td>\n",
       "      <td>180.000000</td>\n",
       "      <td>180.000000</td>\n",
       "      <td>180.000000</td>\n",
       "      <td>180.000000</td>\n",
       "    </tr>\n",
       "    <tr>\n",
       "      <th>mean</th>\n",
       "      <td>-95.0</td>\n",
       "      <td>-95.0</td>\n",
       "      <td>-95.0</td>\n",
       "      <td>-85.711111</td>\n",
       "      <td>-95.0</td>\n",
       "      <td>-50.561111</td>\n",
       "      <td>-86.294444</td>\n",
       "      <td>-86.972222</td>\n",
       "      <td>-85.072222</td>\n",
       "      <td>-85.561111</td>\n",
       "    </tr>\n",
       "    <tr>\n",
       "      <th>std</th>\n",
       "      <td>0.0</td>\n",
       "      <td>0.0</td>\n",
       "      <td>0.0</td>\n",
       "      <td>8.503360</td>\n",
       "      <td>0.0</td>\n",
       "      <td>9.749467</td>\n",
       "      <td>8.370404</td>\n",
       "      <td>8.374896</td>\n",
       "      <td>8.460246</td>\n",
       "      <td>8.587482</td>\n",
       "    </tr>\n",
       "    <tr>\n",
       "      <th>min</th>\n",
       "      <td>-95.0</td>\n",
       "      <td>-95.0</td>\n",
       "      <td>-95.0</td>\n",
       "      <td>-95.000000</td>\n",
       "      <td>-95.0</td>\n",
       "      <td>-95.000000</td>\n",
       "      <td>-95.000000</td>\n",
       "      <td>-95.000000</td>\n",
       "      <td>-95.000000</td>\n",
       "      <td>-95.000000</td>\n",
       "    </tr>\n",
       "    <tr>\n",
       "      <th>25%</th>\n",
       "      <td>-95.0</td>\n",
       "      <td>-95.0</td>\n",
       "      <td>-95.0</td>\n",
       "      <td>-95.000000</td>\n",
       "      <td>-95.0</td>\n",
       "      <td>-49.000000</td>\n",
       "      <td>-95.000000</td>\n",
       "      <td>-95.000000</td>\n",
       "      <td>-95.000000</td>\n",
       "      <td>-95.000000</td>\n",
       "    </tr>\n",
       "    <tr>\n",
       "      <th>50%</th>\n",
       "      <td>-95.0</td>\n",
       "      <td>-95.0</td>\n",
       "      <td>-95.0</td>\n",
       "      <td>-87.000000</td>\n",
       "      <td>-95.0</td>\n",
       "      <td>-48.000000</td>\n",
       "      <td>-87.000000</td>\n",
       "      <td>-88.000000</td>\n",
       "      <td>-86.000000</td>\n",
       "      <td>-87.000000</td>\n",
       "    </tr>\n",
       "    <tr>\n",
       "      <th>75%</th>\n",
       "      <td>-95.0</td>\n",
       "      <td>-95.0</td>\n",
       "      <td>-95.0</td>\n",
       "      <td>-76.000000</td>\n",
       "      <td>-95.0</td>\n",
       "      <td>-47.000000</td>\n",
       "      <td>-77.000000</td>\n",
       "      <td>-76.000000</td>\n",
       "      <td>-76.000000</td>\n",
       "      <td>-76.000000</td>\n",
       "    </tr>\n",
       "    <tr>\n",
       "      <th>max</th>\n",
       "      <td>-95.0</td>\n",
       "      <td>-95.0</td>\n",
       "      <td>-95.0</td>\n",
       "      <td>-72.000000</td>\n",
       "      <td>-95.0</td>\n",
       "      <td>-45.000000</td>\n",
       "      <td>-73.000000</td>\n",
       "      <td>-72.000000</td>\n",
       "      <td>-69.000000</td>\n",
       "      <td>-73.000000</td>\n",
       "    </tr>\n",
       "  </tbody>\n",
       "</table>\n",
       "</div>"
      ],
      "text/plain": [
       "       AP_ITISLI03_5.0  AP_ITISLI02  AP_SMART50  itis-wifi2  AP_SMART25  \\\n",
       "count            180.0        180.0       180.0  180.000000       180.0   \n",
       "mean             -95.0        -95.0       -95.0  -85.711111       -95.0   \n",
       "std                0.0          0.0         0.0    8.503360         0.0   \n",
       "min              -95.0        -95.0       -95.0  -95.000000       -95.0   \n",
       "25%              -95.0        -95.0       -95.0  -95.000000       -95.0   \n",
       "50%              -95.0        -95.0       -95.0  -87.000000       -95.0   \n",
       "75%              -95.0        -95.0       -95.0  -76.000000       -95.0   \n",
       "max              -95.0        -95.0       -95.0  -72.000000       -95.0   \n",
       "\n",
       "       AP_ITISLI03_2.5   itis-wifi    itis-pvt   wifi-itis  wifi-lab01  \n",
       "count       180.000000  180.000000  180.000000  180.000000  180.000000  \n",
       "mean        -50.561111  -86.294444  -86.972222  -85.072222  -85.561111  \n",
       "std           9.749467    8.370404    8.374896    8.460246    8.587482  \n",
       "min         -95.000000  -95.000000  -95.000000  -95.000000  -95.000000  \n",
       "25%         -49.000000  -95.000000  -95.000000  -95.000000  -95.000000  \n",
       "50%         -48.000000  -87.000000  -88.000000  -86.000000  -87.000000  \n",
       "75%         -47.000000  -77.000000  -76.000000  -76.000000  -76.000000  \n",
       "max         -45.000000  -73.000000  -72.000000  -69.000000  -73.000000  "
      ]
     },
     "execution_count": 37,
     "metadata": {},
     "output_type": "execute_result"
    }
   ],
   "source": [
    "data[data['zone'] == 'Aula3_0_1'].describe()"
   ]
  },
  {
   "cell_type": "code",
   "execution_count": 38,
   "id": "870bf0dd",
   "metadata": {},
   "outputs": [
    {
     "data": {
      "text/html": [
       "<div>\n",
       "<style scoped>\n",
       "    .dataframe tbody tr th:only-of-type {\n",
       "        vertical-align: middle;\n",
       "    }\n",
       "\n",
       "    .dataframe tbody tr th {\n",
       "        vertical-align: top;\n",
       "    }\n",
       "\n",
       "    .dataframe thead th {\n",
       "        text-align: right;\n",
       "    }\n",
       "</style>\n",
       "<table border=\"1\" class=\"dataframe\">\n",
       "  <thead>\n",
       "    <tr style=\"text-align: right;\">\n",
       "      <th></th>\n",
       "      <th>itis-wifi2</th>\n",
       "      <th>AP_ITISLI03_2.5</th>\n",
       "      <th>itis-wifi</th>\n",
       "      <th>itis-pvt</th>\n",
       "      <th>wifi-itis</th>\n",
       "      <th>wifi-lab01</th>\n",
       "      <th>zone</th>\n",
       "    </tr>\n",
       "  </thead>\n",
       "  <tbody>\n",
       "    <tr>\n",
       "      <th>0</th>\n",
       "      <td>-72</td>\n",
       "      <td>-82</td>\n",
       "      <td>-73</td>\n",
       "      <td>-73</td>\n",
       "      <td>-80</td>\n",
       "      <td>-72</td>\n",
       "      <td>CorridoioLab_4</td>\n",
       "    </tr>\n",
       "    <tr>\n",
       "      <th>1</th>\n",
       "      <td>-79</td>\n",
       "      <td>-75</td>\n",
       "      <td>-77</td>\n",
       "      <td>-79</td>\n",
       "      <td>-79</td>\n",
       "      <td>-73</td>\n",
       "      <td>CorridoioLab_4</td>\n",
       "    </tr>\n",
       "    <tr>\n",
       "      <th>2</th>\n",
       "      <td>-84</td>\n",
       "      <td>-81</td>\n",
       "      <td>-79</td>\n",
       "      <td>-80</td>\n",
       "      <td>-82</td>\n",
       "      <td>-74</td>\n",
       "      <td>CorridoioLab_4</td>\n",
       "    </tr>\n",
       "    <tr>\n",
       "      <th>3</th>\n",
       "      <td>-83</td>\n",
       "      <td>-83</td>\n",
       "      <td>-69</td>\n",
       "      <td>-76</td>\n",
       "      <td>-73</td>\n",
       "      <td>-76</td>\n",
       "      <td>CorridoioLab_4</td>\n",
       "    </tr>\n",
       "    <tr>\n",
       "      <th>4</th>\n",
       "      <td>-78</td>\n",
       "      <td>-95</td>\n",
       "      <td>-70</td>\n",
       "      <td>-79</td>\n",
       "      <td>-72</td>\n",
       "      <td>-80</td>\n",
       "      <td>CorridoioLab_4</td>\n",
       "    </tr>\n",
       "    <tr>\n",
       "      <th>...</th>\n",
       "      <td>...</td>\n",
       "      <td>...</td>\n",
       "      <td>...</td>\n",
       "      <td>...</td>\n",
       "      <td>...</td>\n",
       "      <td>...</td>\n",
       "      <td>...</td>\n",
       "    </tr>\n",
       "    <tr>\n",
       "      <th>1795</th>\n",
       "      <td>-95</td>\n",
       "      <td>-55</td>\n",
       "      <td>-95</td>\n",
       "      <td>-95</td>\n",
       "      <td>-81</td>\n",
       "      <td>-84</td>\n",
       "      <td>Aula3_0_2</td>\n",
       "    </tr>\n",
       "    <tr>\n",
       "      <th>1796</th>\n",
       "      <td>-95</td>\n",
       "      <td>-53</td>\n",
       "      <td>-85</td>\n",
       "      <td>-84</td>\n",
       "      <td>-86</td>\n",
       "      <td>-84</td>\n",
       "      <td>Aula3_0_2</td>\n",
       "    </tr>\n",
       "    <tr>\n",
       "      <th>1797</th>\n",
       "      <td>-83</td>\n",
       "      <td>-54</td>\n",
       "      <td>-95</td>\n",
       "      <td>-95</td>\n",
       "      <td>-95</td>\n",
       "      <td>-95</td>\n",
       "      <td>Aula3_0_2</td>\n",
       "    </tr>\n",
       "    <tr>\n",
       "      <th>1798</th>\n",
       "      <td>-81</td>\n",
       "      <td>-54</td>\n",
       "      <td>-82</td>\n",
       "      <td>-95</td>\n",
       "      <td>-86</td>\n",
       "      <td>-79</td>\n",
       "      <td>Aula3_0_2</td>\n",
       "    </tr>\n",
       "    <tr>\n",
       "      <th>1799</th>\n",
       "      <td>-95</td>\n",
       "      <td>-54</td>\n",
       "      <td>-95</td>\n",
       "      <td>-95</td>\n",
       "      <td>-82</td>\n",
       "      <td>-95</td>\n",
       "      <td>Aula3_0_2</td>\n",
       "    </tr>\n",
       "  </tbody>\n",
       "</table>\n",
       "<p>1800 rows × 7 columns</p>\n",
       "</div>"
      ],
      "text/plain": [
       "      itis-wifi2  AP_ITISLI03_2.5  itis-wifi  itis-pvt  wifi-itis  wifi-lab01  \\\n",
       "0            -72              -82        -73       -73        -80         -72   \n",
       "1            -79              -75        -77       -79        -79         -73   \n",
       "2            -84              -81        -79       -80        -82         -74   \n",
       "3            -83              -83        -69       -76        -73         -76   \n",
       "4            -78              -95        -70       -79        -72         -80   \n",
       "...          ...              ...        ...       ...        ...         ...   \n",
       "1795         -95              -55        -95       -95        -81         -84   \n",
       "1796         -95              -53        -85       -84        -86         -84   \n",
       "1797         -83              -54        -95       -95        -95         -95   \n",
       "1798         -81              -54        -82       -95        -86         -79   \n",
       "1799         -95              -54        -95       -95        -82         -95   \n",
       "\n",
       "                zone  \n",
       "0     CorridoioLab_4  \n",
       "1     CorridoioLab_4  \n",
       "2     CorridoioLab_4  \n",
       "3     CorridoioLab_4  \n",
       "4     CorridoioLab_4  \n",
       "...              ...  \n",
       "1795       Aula3_0_2  \n",
       "1796       Aula3_0_2  \n",
       "1797       Aula3_0_2  \n",
       "1798       Aula3_0_2  \n",
       "1799       Aula3_0_2  \n",
       "\n",
       "[1800 rows x 7 columns]"
      ]
     },
     "execution_count": 38,
     "metadata": {},
     "output_type": "execute_result"
    }
   ],
   "source": [
    "data = data[['itis-wifi2', 'AP_ITISLI03_2.5', 'itis-wifi', 'itis-pvt',\n",
    "       'wifi-itis', 'wifi-lab01', 'zone']]\n",
    "data\n"
   ]
  },
  {
   "cell_type": "code",
   "execution_count": 39,
   "id": "7ad59a14",
   "metadata": {
    "scrolled": false
   },
   "outputs": [
    {
     "data": {
      "image/png": "[encoded data removed]",
      "text/plain": [
       "<Figure size 720x720 with 1 Axes>"
      ]
     },
     "metadata": {
      "needs_background": "light"
     },
     "output_type": "display_data"
    }
   ],
   "source": [
    "import matplotlib.pyplot as plt\n",
    "\n",
    "fig, ax = plt.subplots(figsize=(10,10))\n",
    "for z in data['zone'].unique():\n",
    "    ax.scatter(data['itis-wifi'][data['zone'] == z], data['itis-pvt'][data['zone'] == z], marker='o', label=z)\n",
    "plt.legend()\n",
    "plt.show()"
   ]
  },
  {
   "cell_type": "code",
   "execution_count": 40,
   "id": "f1b449d9",
   "metadata": {},
   "outputs": [],
   "source": [
    "X = data[features]\n",
    "y = data[\"zone\"]"
   ]
  },
  {
   "cell_type": "code",
   "execution_count": 14,
   "id": "4aa44b4d",
   "metadata": {},
   "outputs": [
    {
     "name": "stdout",
     "output_type": "stream",
     "text": [
      "      itis-wifi2  AP_ITISLI03_2.5  itis-wifi  itis-pvt  wifi-itis  wifi-lab01\n",
      "1145         -78              -72        -80       -73        -78         -71\n",
      "927          -73              -73        -75       -73        -72         -73\n",
      "1189         -82              -74        -71       -81        -85         -84\n",
      "1065         -74              -73        -85       -75        -72         -73\n",
      "671          -72             -120        -80       -86        -68         -77\n"
     ]
    }
   ],
   "source": [
    "X_train, X_test, y_train, y_test = train_test_split(X, y, train_size=0.7, random_state=1)\n",
    "\n",
    "print(X_train.head())"
   ]
  },
  {
   "cell_type": "code",
   "execution_count": 15,
   "id": "4296cf73",
   "metadata": {},
   "outputs": [],
   "source": [
    "depth = range(1,8)\n",
    "train_score = []\n",
    "test_score = []\n",
    "\n",
    "for d in depth:\n",
    "    net_classifier = RandomForestClassifier(max_depth=d, n_estimators=150)\n",
    "    net_classifier.fit(X_train, y_train)\n",
    "    train_score.append(net_classifier.score(X_train, y_train))\n",
    "    test_score.append(net_classifier.score(X_test, y_test))"
   ]
  },
  {
   "cell_type": "code",
   "execution_count": 16,
   "id": "4d3c36fa",
   "metadata": {},
   "outputs": [
    {
     "data": {
      "image/png": "[encoded data removed]",
      "text/plain": [
       "<Figure size 720x720 with 1 Axes>"
      ]
     },
     "metadata": {
      "needs_background": "light"
     },
     "output_type": "display_data"
    }
   ],
   "source": [
    "fig, ax = plt.subplots(figsize=(10,10))\n",
    "ax.plot(depth, train_score, color='r', label='accuratezza training', linewidth=5)\n",
    "ax.plot(depth, test_score, color='b', label='accuratezza test', linewidth=5)\n",
    "ax.tick_params(axis=\"both\", labelsize=16)\n",
    "ax.set_xlabel('maxdepth value', fontsize=22)\n",
    "ax.set_ylabel('accuracy', fontsize=22)\n",
    "ax.legend(fontsize=22)\n",
    "ax.grid(\"both\")\n",
    "plt.show()"
   ]
  },
  {
   "cell_type": "code",
   "execution_count": 17,
   "id": "956cc019",
   "metadata": {},
   "outputs": [
    {
     "name": "stdout",
     "output_type": "stream",
     "text": [
      "importanza di itis-wifi2: 0.12\n",
      "importanza di AP_ITISLI03_2.5: 0.42\n",
      "importanza di itis-wifi: 0.11\n",
      "importanza di itis-pvt: 0.16\n",
      "importanza di wifi-itis: 0.08\n",
      "importanza di wifi-lab01: 0.11\n"
     ]
    }
   ],
   "source": [
    "for i, f in enumerate(features):\n",
    "    print(f\"importanza di {f}: {net_classifier.feature_importances_[i]:.2f}\")"
   ]
  },
  {
   "cell_type": "code",
   "execution_count": 18,
   "id": "87d592d4",
   "metadata": {},
   "outputs": [
    {
     "data": {
      "text/plain": [
       "['net_classifier.joblib']"
      ]
     },
     "execution_count": 18,
     "metadata": {},
     "output_type": "execute_result"
    }
   ],
   "source": [
    "from joblib import dump, loadfeatures\n",
    "\n",
    "dump(net_classifier, 'net_classifier.joblib')\n",
    "#model = load('net_classifier.joblib')"
   ]
  }
 ],
 "metadata": {
  "kernelspec": {
   "display_name": "Python 3",
   "language": "python",
   "name": "python3"
  },
  "language_info": {
   "codemirror_mode": {
    "name": "ipython",
    "version": 3
   },
   "file_extension": ".py",
   "mimetype": "text/x-python",
   "name": "python",
   "nbconvert_exporter": "python",
   "pygments_lexer": "ipython3",
   "version": "3.8.8"
  }
 },
 "nbformat": 4,
 "nbformat_minor": 5
}

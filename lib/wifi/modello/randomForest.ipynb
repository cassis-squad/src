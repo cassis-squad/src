{
 "cells": [
  {
   "cell_type": "code",
   "execution_count": 1,
   "id": "534982ee",
   "metadata": {},
   "outputs": [],
   "source": [
    "import pandas as pd\n",
    "from sklearn.model_selection import train_test_split\n",
    "import numpy as np"
   ]
  },
  {
   "cell_type": "code",
   "execution_count": 3,
   "id": "8b7d791e",
   "metadata": {},
   "outputs": [],
   "source": [
    "wifi = pd.read_csv(\"../dataset/dataset.csv\")\n",
    "del wifi[\"Unnamed: 12\"]\n",
    "wifi\n",
    "\n",
    "zone = np.array([1,2,3,4])\n",
    "colonne = wifi.columns.values\n",
    "colonne = colonne[np.logical_and(colonne != \"macro_zone\", colonne != \"micro_zone\")]"
   ]
  },
  {
   "cell_type": "code",
   "execution_count": 4,
   "id": "9dbb31d5",
   "metadata": {},
   "outputs": [],
   "source": [
    "X = wifi[[col for col in wifi if col != 'macro_zone' and col != 'micro_zone']]\n",
    "y = wifi[\"micro_zone\"]\n",
    "\n",
    "X_train, X_test, y_train, y_test = train_test_split(X, y, test_size=0.3, random_state=7)"
   ]
  },
  {
   "cell_type": "code",
   "execution_count": 5,
   "id": "d09264ee",
   "metadata": {},
   "outputs": [],
   "source": [
    "from sklearn.ensemble import RandomForestClassifier\n",
    "\n",
    "clf = RandomForestClassifier(n_estimators=80)\n",
    "clf.fit(X_train, y_train)\n",
    "\n",
    "y_pred = clf.predict(X_test)"
   ]
  },
  {
   "cell_type": "code",
   "execution_count": 6,
   "id": "bf917da0",
   "metadata": {},
   "outputs": [
    {
     "name": "stdout",
     "output_type": "stream",
     "text": [
      "0.988\n",
      "0.833\n"
     ]
    },
    {
     "data": {
      "image/png": "[encoded data removed]",
      "text/plain": [
       "<Figure size 432x288 with 2 Axes>"
      ]
     },
     "metadata": {
      "needs_background": "light"
     },
     "output_type": "display_data"
    }
   ],
   "source": [
    "import matplotlib.pyplot as plt\n",
    "import seaborn as sns\n",
    "from sklearn import metrics\n",
    "\n",
    "%matplotlib inline\n",
    "\n",
    "sns.heatmap(\n",
    "    pd.crosstab(\n",
    "        y_test,\n",
    "        y_pred,\n",
    "        rownames=[\"actual\"],\n",
    "        colnames=[\"prediction\"],\n",
    "    ),\n",
    "    annot=True,\n",
    ")\n",
    "\n",
    "accuracy = metrics.accuracy_score(y_test, y_pred)\n",
    "plt.title(f\"\\nAccuracy {accuracy}\\n\")\n",
    "\n",
    "print(f\"{clf.score(X_train, y_train):.3f}\")\n",
    "print(f\"{clf.score(X_test, y_test):.3f}\")\n",
    "\n",
    "\n",
    "plt.show()"
   ]
  },
  {
   "cell_type": "code",
   "execution_count": 8,
   "id": "3fad7329",
   "metadata": {
    "scrolled": true
   },
   "outputs": [
    {
     "name": "stdout",
     "output_type": "stream",
     "text": [
      "zona 1 prob 0.1875\n",
      "zona 2 prob 0.0125\n",
      "zona 3 prob 0.5875\n",
      "zona 4 prob 0.2125\n"
     ]
    },
    {
     "name": "stderr",
     "output_type": "stream",
     "text": [
      "/home/rdfilippo/.local/lib/python3.10/site-packages/sklearn/base.py:450: UserWarning: X does not have valid feature names, but RandomForestClassifier was fitted with feature names\n",
      "  warnings.warn(\n"
     ]
    }
   ],
   "source": [
    "#probability\n",
    "test = np.array([[-120,-120,-73,-77,-75,-73,-120,-120,-120,-69]])\n",
    "p = clf.predict_proba(test)\n",
    "for i, s in enumerate(clf.classes_):\n",
    "    print(f\"zona {s} prob {p[0,i]}\")"
   ]
  },
  {
   "cell_type": "code",
   "execution_count": 9,
   "id": "a087bb8a",
   "metadata": {},
   "outputs": [
    {
     "name": "stdout",
     "output_type": "stream",
     "text": [
      "importanza di itis-wifi2: 0.08\n",
      "importanza di AP_SMART50: 0.00\n",
      "importanza di itis-wifi: 0.21\n",
      "importanza di AP_ITISLI03_5.0: 0.00\n",
      "importanza di wifi-lab01: 0.16\n",
      "importanza di AP_ITISLI02: 0.20\n",
      "importanza di itis-pvt: 0.11\n",
      "importanza di AP_SMART25: 0.08\n",
      "importanza di AP_ITISLI03_2.5: 0.00\n",
      "importanza di wifi-itis: 0.16\n"
     ]
    }
   ],
   "source": [
    "#feature importance\n",
    "for i, f in enumerate(colonne):\n",
    "    print(f\"importanza di {f}: {clf.feature_importances_[i]:.2f}\")"
   ]
  },
  {
   "cell_type": "code",
   "execution_count": 10,
   "id": "78bff0da",
   "metadata": {},
   "outputs": [],
   "source": [
    "# export trained model\n",
    "\n",
    "import pickle\n",
    "filename = \"wifi_model.pkl\"\n",
    "\n",
    "with open(filename, \"wb\") as file:\n",
    "    pickle.dump(clf, file)"
   ]
  }
 ],
 "metadata": {
  "kernelspec": {
   "display_name": "Python 3 (ipykernel)",
   "language": "python",
   "name": "python3"
  },
  "language_info": {
   "codemirror_mode": {
    "name": "ipython",
    "version": 3
   },
   "file_extension": ".py",
   "mimetype": "text/x-python",
   "name": "python",
   "nbconvert_exporter": "python",
   "pygments_lexer": "ipython3",
   "version": "3.10.2"
  }
 },
 "nbformat": 4,
 "nbformat_minor": 5
}
